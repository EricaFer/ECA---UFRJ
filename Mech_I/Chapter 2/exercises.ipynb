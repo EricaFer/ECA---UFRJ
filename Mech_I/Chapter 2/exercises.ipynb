{
 "cells": [
  {
   "cell_type": "code",
   "execution_count": 1,
   "metadata": {},
   "outputs": [],
   "source": [
    "import numpy as np"
   ]
  },
  {
   "cell_type": "code",
   "execution_count": 5,
   "metadata": {},
   "outputs": [
    {
     "name": "stdout",
     "output_type": "stream",
     "text": [
      "[ 0.5 -0.1  0. ]\n"
     ]
    }
   ],
   "source": [
    "print(np.cross(np.array([0.1,0.5,0]),np.array([0,0,1])))"
   ]
  },
  {
   "cell_type": "code",
   "execution_count": 4,
   "metadata": {},
   "outputs": [
    {
     "name": "stdout",
     "output_type": "stream",
     "text": [
      "0.5099019513592785\n"
     ]
    }
   ],
   "source": [
    "print(np.linalg.norm(np.cross(np.array([0.1,0.5,0]),np.array([0,0,1]))))"
   ]
  },
  {
   "cell_type": "code",
   "execution_count": 72,
   "metadata": {},
   "outputs": [
    {
     "name": "stdout",
     "output_type": "stream",
     "text": [
      "-57.9555495773441 0.5196152422706631\n"
     ]
    }
   ],
   "source": [
    "# Momento de B em relação a A\n",
    "\n",
    "m_ab1 = -np.sqrt(2)*0.3 * 100 * np.cos(degrees_2_radians(30))\n",
    "m_ab2 = -np.sqrt(2)*0.3 * 100 * np.sin(degrees_2_radians(30))\n",
    "\n",
    "m_cd1 = np.sqrt(2)*0.3 * np.cos(degrees_2_radians(15))\n",
    "m_cd2 = np.sqrt(2)*0.3 * np.sin(degrees_2_radians(15))\n",
    "\n",
    "print(m_ab1+m_ab2,m_cd1+m_cd2)"
   ]
  },
  {
   "cell_type": "code",
   "execution_count": 80,
   "metadata": {},
   "outputs": [
    {
     "name": "stdout",
     "output_type": "stream",
     "text": [
      "20.98076211353316\n",
      "57.10240176985932\n"
     ]
    }
   ],
   "source": [
    "# Momento de B em relação a A\n",
    "\n",
    "v_a = np.array([0,0,0])\n",
    "v_b = np.array([0.3,0.3,0])\n",
    "v_c = np.array([0,0.3,0])\n",
    "v_d = np.array([0.3,0,0])\n",
    "\n",
    "m_ab = np.cross((v_b-v_a), np.array([100*np.cos(degrees_2_radians(30)),-100*np.sin(degrees_2_radians(30)),0]))\n",
    "\n",
    "m_cd = np.cross((v_d-v_c),np.array([np.cos(degrees_2_radians(15)),np.sin(degrees_2_radians(15)),0]))\n",
    "\n",
    "print(-20-m_ab[2])\n",
    "print((-20-m_ab[2])/m_cd[2])"
   ]
  },
  {
   "cell_type": "code",
   "execution_count": 18,
   "metadata": {},
   "outputs": [
    {
     "data": {
      "text/plain": [
       "array([0.        , 0.        , 0.21213203])"
      ]
     },
     "execution_count": 18,
     "metadata": {},
     "output_type": "execute_result"
    }
   ],
   "source": [
    "np.cross([0.3,-0.3,0],[np.cos(degrees_2_radians(15)),-np.sin(degrees_2_radians(15)),0])"
   ]
  },
  {
   "cell_type": "code",
   "execution_count": 13,
   "metadata": {},
   "outputs": [],
   "source": [
    "def degrees_2_radians(degrees:float)->float:\n",
    "    return degrees * (np.pi/180)"
   ]
  },
  {
   "cell_type": "code",
   "execution_count": 49,
   "metadata": {},
   "outputs": [
    {
     "name": "stdout",
     "output_type": "stream",
     "text": [
      "Alfa:95.2\n",
      "Beta:109.8\n",
      "Gama:20.6\n"
     ]
    }
   ],
   "source": [
    "a = np.array(\n",
    "    [\n",
    "        np.sin(degrees_2_radians(15))*0.2,\n",
    "        np.cos(degrees_2_radians(15))*0.2,\n",
    "        0.075\n",
    "    ]\n",
    ")\n",
    "o = np.array([0,0,0])\n",
    "\n",
    "f = 20*np.array(\n",
    "    [\n",
    "        -np.sin(degrees_2_radians(75)),\n",
    "        np.cos(degrees_2_radians(75)),\n",
    "        0\n",
    "    ]\n",
    ")\n",
    "\n",
    "momento = np.cross(a-o,f)\n",
    "\n",
    "mag_FR = np.linalg.norm(momento)\n",
    "\n",
    "def radians_2_degrees(radians:float)->float:\n",
    "    return radians * (180/np.pi)\n",
    "\n",
    "alfa = round(radians_2_degrees(np.arccos(momento[0]/mag_FR)),1)\n",
    "beta = round(radians_2_degrees(np.arccos(momento[1]/mag_FR)),1)\n",
    "gama = round(radians_2_degrees(np.arccos(momento[2]/mag_FR)),1)\n",
    "\n",
    "print(f'Alfa:{alfa}',f'Beta:{beta}',f'Gama:{gama}',sep = '\\n')"
   ]
  },
  {
   "cell_type": "code",
   "execution_count": 51,
   "metadata": {},
   "outputs": [
    {
     "data": {
      "text/plain": [
       "array([0.05176381, 0.19318517, 0.075     ])"
      ]
     },
     "execution_count": 51,
     "metadata": {},
     "output_type": "execute_result"
    }
   ],
   "source": [
    "a-o"
   ]
  },
  {
   "cell_type": "code",
   "execution_count": 41,
   "metadata": {},
   "outputs": [],
   "source": [
    "def resulting_force(r_ab:np.array,r_ac:np.array,F_AB:int,F_AC:int):\n",
    "    \"\"\"\n",
    "    Calcula força resultante, magnitude e ângulos alfa, beta e gama\n",
    "\n",
    "    :param r_ab: vetor de posição de B em relação a A\n",
    "    :param r_ac: vetor de posição de C em relação a A\n",
    "    :param F_AB: força de B a partir do ponto A\n",
    "    :param F_AC: força de C a partir do ponto A\n",
    "    \"\"\"\n",
    "\n",
    "    # vetores direção\n",
    "    dir_F_AB = (r_ab/np.linalg.norm(r_ab))\n",
    "    dir_F_AC = (r_ac/np.linalg.norm(r_ac))\n",
    "\n",
    "    # força resultante\n",
    "    FR = F_AB*dir_F_AB + F_AC*dir_F_AC\n",
    "\n",
    "    # magnitude da força resultante\n",
    "    mag_FR = np.linalg.norm(FR)\n",
    "\n",
    "    def radians_2_degrees(radians:float)->float:\n",
    "        return radians * (180/np.pi)\n",
    "\n",
    "    alfa = round(radians_2_degrees(np.arccos(FR[0]/mag_FR)),1)\n",
    "    beta = round(radians_2_degrees(np.arccos(FR[1]/mag_FR)),1)\n",
    "    gama = round(radians_2_degrees(np.arccos(FR[2]/mag_FR)),1)\n",
    "\n",
    "    print(f'Magnitude de FR = {round(mag_FR,2)} N')\n",
    "    print(f'Alfa:{alfa}',f'Beta:{beta}',f'Gama:{gama}',sep = '\\n')\n"
   ]
  },
  {
   "cell_type": "code",
   "execution_count": 42,
   "metadata": {},
   "outputs": [
    {
     "name": "stdout",
     "output_type": "stream",
     "text": [
      "Magnitude de FR = 1174.56 N\n",
      "Alfa:66.9\n",
      "Beta:92.0\n",
      "Gama:156.9\n"
     ]
    }
   ],
   "source": [
    "resulting_force(\n",
    "    r_ab= np.array([2,-3,-6]),\n",
    "    r_ac = np.array([3,2,-6]),\n",
    "    F_AB = 560,\n",
    "    F_AC = 700\n",
    ")"
   ]
  },
  {
   "cell_type": "code",
   "execution_count": null,
   "metadata": {},
   "outputs": [],
   "source": []
  }
 ],
 "metadata": {
  "kernelspec": {
   "display_name": "Python 3.10.2 64-bit",
   "language": "python",
   "name": "python3"
  },
  "language_info": {
   "codemirror_mode": {
    "name": "ipython",
    "version": 3
   },
   "file_extension": ".py",
   "mimetype": "text/x-python",
   "name": "python",
   "nbconvert_exporter": "python",
   "pygments_lexer": "ipython3",
   "version": "3.10.2"
  },
  "orig_nbformat": 4,
  "vscode": {
   "interpreter": {
    "hash": "9a0cdf84f448366647335ab4dc44bab47d439701884f9aceeef12dc82824af0a"
   }
  }
 },
 "nbformat": 4,
 "nbformat_minor": 2
}
