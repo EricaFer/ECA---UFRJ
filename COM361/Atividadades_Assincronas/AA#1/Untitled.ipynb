{
 "cells": [
  {
   "cell_type": "code",
   "execution_count": 54,
   "metadata": {},
   "outputs": [],
   "source": [
    "import math\n",
    "\n",
    "coord_x = [0,20,18,30,35,33,5,5,11,2] \n",
    "coord_y = [0,20,10,12,0,25,27,10,0,15]\n",
    "\n",
    "fornece      = [1,2,3,4,5,6,7,8,9,10]\n",
    "recebe       = [1,2,3,4,5,6,7,8,9,10]\n",
    "\n",
    "m = [[round(math.sqrt(((coord_x[i-1] - coord_x[j-1])**2 + (coord_y[i-1] - coord_y[j-1])**2)),2) for j in recebe] for i in fornece]"
   ]
  },
  {
   "cell_type": "code",
   "execution_count": 5,
   "metadata": {},
   "outputs": [
    {
     "data": {
      "text/plain": [
       "1.4142135623730951"
      ]
     },
     "execution_count": 5,
     "metadata": {},
     "output_type": "execute_result"
    }
   ],
   "source": [
    "math.sqrt(2)"
   ]
  },
  {
   "cell_type": "code",
   "execution_count": 55,
   "metadata": {},
   "outputs": [
    {
     "data": {
      "text/plain": [
       "[[0.0, 28.28, 20.59, 32.31, 35.0, 41.4, 27.46, 11.18, 11.0, 15.13],\n",
       " [28.28, 0.0, 10.2, 12.81, 25.0, 13.93, 16.55, 18.03, 21.93, 18.68],\n",
       " [20.59, 10.2, 0.0, 12.17, 19.72, 21.21, 21.4, 13.0, 12.21, 16.76],\n",
       " [32.31, 12.81, 12.17, 0.0, 13.0, 13.34, 29.15, 25.08, 22.47, 28.16],\n",
       " [35.0, 25.0, 19.72, 13.0, 0.0, 25.08, 40.36, 31.62, 24.0, 36.25],\n",
       " [41.4, 13.93, 21.21, 13.34, 25.08, 0.0, 28.07, 31.76, 33.3, 32.57],\n",
       " [27.46, 16.55, 21.4, 29.15, 40.36, 28.07, 0.0, 17.0, 27.66, 12.37],\n",
       " [11.18, 18.03, 13.0, 25.08, 31.62, 31.76, 17.0, 0.0, 11.66, 5.83],\n",
       " [11.0, 21.93, 12.21, 22.47, 24.0, 33.3, 27.66, 11.66, 0.0, 17.49],\n",
       " [15.13, 18.68, 16.76, 28.16, 36.25, 32.57, 12.37, 5.83, 17.49, 0.0]]"
      ]
     },
     "execution_count": 55,
     "metadata": {},
     "output_type": "execute_result"
    }
   ],
   "source": [
    "m"
   ]
  },
  {
   "cell_type": "code",
   "execution_count": 57,
   "metadata": {},
   "outputs": [],
   "source": [
    "m1 = [[j for j in recebe] for i in fornece]"
   ]
  },
  {
   "cell_type": "code",
   "execution_count": 48,
   "metadata": {},
   "outputs": [
    {
     "data": {
      "text/plain": [
       "12.806248474865697"
      ]
     },
     "execution_count": 48,
     "metadata": {},
     "output_type": "execute_result"
    }
   ],
   "source": [
    "m1 = math.sqrt(m[i][j])"
   ]
  },
  {
   "cell_type": "code",
   "execution_count": 58,
   "metadata": {},
   "outputs": [
    {
     "data": {
      "text/plain": [
       "[[1, 2, 3, 4, 5, 6, 7, 8, 9, 10],\n",
       " [1, 2, 3, 4, 5, 6, 7, 8, 9, 10],\n",
       " [1, 2, 3, 4, 5, 6, 7, 8, 9, 10],\n",
       " [1, 2, 3, 4, 5, 6, 7, 8, 9, 10],\n",
       " [1, 2, 3, 4, 5, 6, 7, 8, 9, 10],\n",
       " [1, 2, 3, 4, 5, 6, 7, 8, 9, 10],\n",
       " [1, 2, 3, 4, 5, 6, 7, 8, 9, 10],\n",
       " [1, 2, 3, 4, 5, 6, 7, 8, 9, 10],\n",
       " [1, 2, 3, 4, 5, 6, 7, 8, 9, 10],\n",
       " [1, 2, 3, 4, 5, 6, 7, 8, 9, 10]]"
      ]
     },
     "execution_count": 58,
     "metadata": {},
     "output_type": "execute_result"
    }
   ],
   "source": [
    "m1"
   ]
  },
  {
   "cell_type": "code",
   "execution_count": null,
   "metadata": {},
   "outputs": [],
   "source": []
  }
 ],
 "metadata": {
  "kernelspec": {
   "display_name": "Python 3",
   "language": "python",
   "name": "python3"
  },
  "language_info": {
   "codemirror_mode": {
    "name": "ipython",
    "version": 3
   },
   "file_extension": ".py",
   "mimetype": "text/x-python",
   "name": "python",
   "nbconvert_exporter": "python",
   "pygments_lexer": "ipython3",
   "version": "3.8.5"
  }
 },
 "nbformat": 4,
 "nbformat_minor": 4
}
