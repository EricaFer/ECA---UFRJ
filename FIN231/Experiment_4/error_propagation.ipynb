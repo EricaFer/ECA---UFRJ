{
 "cells": [
  {
   "cell_type": "markdown",
   "metadata": {},
   "source": [
    "## **Error Propagation**\n",
    "\n",
    "### **Authors:**\n",
    "- Erica Ferreira - [erica.ferreira@poli.ufrj.br](mailto:erica.ferreira@poli.ufrj.br)\n",
    "\n",
    "### **Description:**\n",
    "\n",
    "Voltage calculator and error propagation for question 4 on the Experiment 4 for the subject of Experimental Physics 3 at the Federal University of Rio de Janeiro (UFRJ)\n",
    "\n",
    "<HR>"
   ]
  },
  {
   "cell_type": "markdown",
   "metadata": {},
   "source": [
    "### **Importing tools**"
   ]
  },
  {
   "cell_type": "code",
   "execution_count": 1,
   "metadata": {},
   "outputs": [],
   "source": [
    "import numpy as np\n",
    "import pandas as pd"
   ]
  },
  {
   "cell_type": "markdown",
   "metadata": {},
   "source": [
    "$$V_{OC} = \\sqrt{V_{OG} ^2 - V_{OR} ^2}$$\n",
    "\n",
    "\n",
    "<br>\n",
    "\n",
    "$$\\sigma_{V_{OC}} = \\sqrt{\\left( \\frac{V_{OG} \\cdot \\sigma_{V_{OG}}}{\\sqrt{V_{OG}^2 - V_{OR}^2}} \\right)^2 + \\left(\\frac{- V_{OR} \\cdot \\sigma_{V_{OR}}}{\\sqrt{V_{OR}^2 - V_{OG}^2}} \\right)^2}$$\n"
   ]
  },
  {
   "cell_type": "markdown",
   "metadata": {},
   "source": [
    "$$i_o = \\frac{V_{OR}}{R}$$\n",
    "\n",
    "<br>\n",
    "\n",
    "$$\\sigma_{i_o} = \\sqrt{\\left( \\frac{\\sigma_{V_{OR}}}{R} \\right)^2 + \\left( \\frac{-\\sigma_R}{R^2}\\right)^2}$$"
   ]
  },
  {
   "cell_type": "code",
   "execution_count": 29,
   "metadata": {},
   "outputs": [],
   "source": [
    "def calculator(volt_resistor, volt_gerador, volt_resistor_error, volt_gerador_error, qtiplot = bool):\n",
    "\n",
    "    resistance = 99.4\n",
    "    resistance_error = 0.1\n",
    "\n",
    "    voltages = zip(volt_resistor, volt_resistor_error, volt_gerador, volt_gerador_error)\n",
    "\n",
    "\n",
    "    df = pd.DataFrame()\n",
    "\n",
    "    for resistor, resistor_error, generator, generator_error in voltages:\n",
    "\n",
    "        current = resistor/resistance\n",
    "\n",
    "        current_error = np.sqrt((resistor_error/resistance)**2 + (resistance_error/(resistance)**2)**2)\n",
    "\n",
    "        capacitor = np.sqrt(generator**2 - resistor**2)\n",
    "\n",
    "        capacitor_error = np.sqrt(((generator * generator_error)/ capacitor)**2 + ((resistor * resistor)/capacitor)**2)\n",
    "\n",
    "\n",
    "\n",
    "        if qtiplot:\n",
    "\n",
    "            data = {\n",
    "                'Vor' : [round(resistor,4)],\n",
    "                'error_Vor': [round(resistor_error,4)],\n",
    "                'io' : [round(current,4)],\n",
    "                'error_io': [round(current_error,6)],\n",
    "                'Vog': [round(generator,4)],\n",
    "                'error_Vog':[round(generator_error,4)],\n",
    "                'Voc': [round(capacitor,4)],\n",
    "                'error_Voc':[round(capacitor_error,4)]\n",
    "            }\n",
    "\n",
    "\n",
    "        else:\n",
    "\n",
    "            data = {\n",
    "                'Vor ± error_Vor' : [f'{round(resistor,4)} ± {round(resistor_error,4)}'],\n",
    "                'io ± error_i' :[ f'{round(current*1000,2)} ± {round(current_error*1000,2)} mA'],\n",
    "                'Vog ± error_Vog' : [f'{round(generator,4)} ± {round(generator_error,4)}'],\n",
    "                'Voc ± error_Voc' : [f'{round(capacitor,2)} ± {round(capacitor_error,2)}']\n",
    "            }\n",
    "\n",
    "\n",
    "        df = df.append(pd.DataFrame(data))\n",
    "\n",
    "    return df.head(10).reset_index(drop = True)"
   ]
  },
  {
   "cell_type": "code",
   "execution_count": 24,
   "metadata": {},
   "outputs": [],
   "source": [
    "df_no_qtiplot = calculator(volt_resistor= [0.13,0.16,0.2,0.28,0.36,0.44], \n",
    "           volt_resistor_error= [0.001,0.001,0.002,0.002,0.002,0.002],\n",
    "           volt_gerador=[1.30,1.6,2,2.8,3.8,8],\n",
    "           volt_gerador_error= [0.05,0.05,0.04,0.1,0.1,0.1],\n",
    "           qtiplot= False)"
   ]
  },
  {
   "cell_type": "code",
   "execution_count": 25,
   "metadata": {},
   "outputs": [
    {
     "data": {
      "text/html": [
       "<div>\n",
       "<style scoped>\n",
       "    .dataframe tbody tr th:only-of-type {\n",
       "        vertical-align: middle;\n",
       "    }\n",
       "\n",
       "    .dataframe tbody tr th {\n",
       "        vertical-align: top;\n",
       "    }\n",
       "\n",
       "    .dataframe thead th {\n",
       "        text-align: right;\n",
       "    }\n",
       "</style>\n",
       "<table border=\"1\" class=\"dataframe\">\n",
       "  <thead>\n",
       "    <tr style=\"text-align: right;\">\n",
       "      <th></th>\n",
       "      <th>Vor ± error_Vor</th>\n",
       "      <th>io ± error_i</th>\n",
       "      <th>Vog ± error_Vog</th>\n",
       "      <th>Voc ± error_Voc</th>\n",
       "    </tr>\n",
       "  </thead>\n",
       "  <tbody>\n",
       "    <tr>\n",
       "      <th>0</th>\n",
       "      <td>0.13 ± 0.001</td>\n",
       "      <td>1.31 ± 0.01 mA</td>\n",
       "      <td>1.3 ± 0.05</td>\n",
       "      <td>1.29 ± 0.05</td>\n",
       "    </tr>\n",
       "    <tr>\n",
       "      <th>1</th>\n",
       "      <td>0.16 ± 0.001</td>\n",
       "      <td>1.61 ± 0.01 mA</td>\n",
       "      <td>1.6 ± 0.05</td>\n",
       "      <td>1.59 ± 0.05</td>\n",
       "    </tr>\n",
       "    <tr>\n",
       "      <th>2</th>\n",
       "      <td>0.2 ± 0.002</td>\n",
       "      <td>2.01 ± 0.02 mA</td>\n",
       "      <td>2 ± 0.04</td>\n",
       "      <td>1.99 ± 0.04</td>\n",
       "    </tr>\n",
       "    <tr>\n",
       "      <th>3</th>\n",
       "      <td>0.28 ± 0.002</td>\n",
       "      <td>2.82 ± 0.02 mA</td>\n",
       "      <td>2.8 ± 0.1</td>\n",
       "      <td>2.79 ± 0.1</td>\n",
       "    </tr>\n",
       "    <tr>\n",
       "      <th>4</th>\n",
       "      <td>0.36 ± 0.002</td>\n",
       "      <td>3.62 ± 0.02 mA</td>\n",
       "      <td>3.8 ± 0.1</td>\n",
       "      <td>3.78 ± 0.11</td>\n",
       "    </tr>\n",
       "    <tr>\n",
       "      <th>5</th>\n",
       "      <td>0.44 ± 0.002</td>\n",
       "      <td>4.43 ± 0.02 mA</td>\n",
       "      <td>8 ± 0.1</td>\n",
       "      <td>7.99 ± 0.1</td>\n",
       "    </tr>\n",
       "  </tbody>\n",
       "</table>\n",
       "</div>"
      ],
      "text/plain": [
       "  Vor ± error_Vor    io ± error_i Vog ± error_Vog Voc ± error_Voc\n",
       "0    0.13 ± 0.001  1.31 ± 0.01 mA      1.3 ± 0.05     1.29 ± 0.05\n",
       "1    0.16 ± 0.001  1.61 ± 0.01 mA      1.6 ± 0.05     1.59 ± 0.05\n",
       "2     0.2 ± 0.002  2.01 ± 0.02 mA        2 ± 0.04     1.99 ± 0.04\n",
       "3    0.28 ± 0.002  2.82 ± 0.02 mA       2.8 ± 0.1      2.79 ± 0.1\n",
       "4    0.36 ± 0.002  3.62 ± 0.02 mA       3.8 ± 0.1     3.78 ± 0.11\n",
       "5    0.44 ± 0.002  4.43 ± 0.02 mA         8 ± 0.1      7.99 ± 0.1"
      ]
     },
     "execution_count": 25,
     "metadata": {},
     "output_type": "execute_result"
    }
   ],
   "source": [
    "df_no_qtiplot"
   ]
  },
  {
   "cell_type": "code",
   "execution_count": 43,
   "metadata": {},
   "outputs": [],
   "source": [
    "df_qtiplot = calculator(volt_resistor= [0.13,0.16,0.2,0.28,0.36,0.44], \n",
    "           volt_resistor_error= [0.001,0.001,0.002,0.002,0.002,0.002],\n",
    "           volt_gerador=[1.30,1.6,2,2.8,3.8,4],\n",
    "           volt_gerador_error= [0.05,0.05,0.04,0.1,0.1,0.1],\n",
    "           qtiplot= False)"
   ]
  },
  {
   "cell_type": "code",
   "execution_count": 44,
   "metadata": {},
   "outputs": [
    {
     "data": {
      "text/html": [
       "<div>\n",
       "<style scoped>\n",
       "    .dataframe tbody tr th:only-of-type {\n",
       "        vertical-align: middle;\n",
       "    }\n",
       "\n",
       "    .dataframe tbody tr th {\n",
       "        vertical-align: top;\n",
       "    }\n",
       "\n",
       "    .dataframe thead th {\n",
       "        text-align: right;\n",
       "    }\n",
       "</style>\n",
       "<table border=\"1\" class=\"dataframe\">\n",
       "  <thead>\n",
       "    <tr style=\"text-align: right;\">\n",
       "      <th></th>\n",
       "      <th>Vor ± error_Vor</th>\n",
       "      <th>io ± error_i</th>\n",
       "      <th>Vog ± error_Vog</th>\n",
       "      <th>Voc ± error_Voc</th>\n",
       "    </tr>\n",
       "  </thead>\n",
       "  <tbody>\n",
       "    <tr>\n",
       "      <th>0</th>\n",
       "      <td>0.13 ± 0.001</td>\n",
       "      <td>1.31 ± 0.01 mA</td>\n",
       "      <td>1.3 ± 0.05</td>\n",
       "      <td>1.29 ± 0.05</td>\n",
       "    </tr>\n",
       "    <tr>\n",
       "      <th>1</th>\n",
       "      <td>0.16 ± 0.001</td>\n",
       "      <td>1.61 ± 0.01 mA</td>\n",
       "      <td>1.6 ± 0.05</td>\n",
       "      <td>1.59 ± 0.05</td>\n",
       "    </tr>\n",
       "    <tr>\n",
       "      <th>2</th>\n",
       "      <td>0.2 ± 0.002</td>\n",
       "      <td>2.01 ± 0.02 mA</td>\n",
       "      <td>2 ± 0.04</td>\n",
       "      <td>1.99 ± 0.04</td>\n",
       "    </tr>\n",
       "    <tr>\n",
       "      <th>3</th>\n",
       "      <td>0.28 ± 0.002</td>\n",
       "      <td>2.82 ± 0.02 mA</td>\n",
       "      <td>2.8 ± 0.1</td>\n",
       "      <td>2.79 ± 0.1</td>\n",
       "    </tr>\n",
       "    <tr>\n",
       "      <th>4</th>\n",
       "      <td>0.36 ± 0.002</td>\n",
       "      <td>3.62 ± 0.02 mA</td>\n",
       "      <td>3.8 ± 0.1</td>\n",
       "      <td>3.78 ± 0.11</td>\n",
       "    </tr>\n",
       "    <tr>\n",
       "      <th>5</th>\n",
       "      <td>0.44 ± 0.002</td>\n",
       "      <td>4.43 ± 0.02 mA</td>\n",
       "      <td>4 ± 0.1</td>\n",
       "      <td>3.98 ± 0.11</td>\n",
       "    </tr>\n",
       "  </tbody>\n",
       "</table>\n",
       "</div>"
      ],
      "text/plain": [
       "  Vor ± error_Vor    io ± error_i Vog ± error_Vog Voc ± error_Voc\n",
       "0    0.13 ± 0.001  1.31 ± 0.01 mA      1.3 ± 0.05     1.29 ± 0.05\n",
       "1    0.16 ± 0.001  1.61 ± 0.01 mA      1.6 ± 0.05     1.59 ± 0.05\n",
       "2     0.2 ± 0.002  2.01 ± 0.02 mA        2 ± 0.04     1.99 ± 0.04\n",
       "3    0.28 ± 0.002  2.82 ± 0.02 mA       2.8 ± 0.1      2.79 ± 0.1\n",
       "4    0.36 ± 0.002  3.62 ± 0.02 mA       3.8 ± 0.1     3.78 ± 0.11\n",
       "5    0.44 ± 0.002  4.43 ± 0.02 mA         4 ± 0.1     3.98 ± 0.11"
      ]
     },
     "execution_count": 44,
     "metadata": {},
     "output_type": "execute_result"
    }
   ],
   "source": [
    "df_qtiplot"
   ]
  },
  {
   "cell_type": "code",
   "execution_count": 42,
   "metadata": {},
   "outputs": [
    {
     "data": {
      "text/html": [
       "<div>\n",
       "<style scoped>\n",
       "    .dataframe tbody tr th:only-of-type {\n",
       "        vertical-align: middle;\n",
       "    }\n",
       "\n",
       "    .dataframe tbody tr th {\n",
       "        vertical-align: top;\n",
       "    }\n",
       "\n",
       "    .dataframe thead th {\n",
       "        text-align: right;\n",
       "    }\n",
       "</style>\n",
       "<table border=\"1\" class=\"dataframe\">\n",
       "  <thead>\n",
       "    <tr style=\"text-align: right;\">\n",
       "      <th></th>\n",
       "      <th>Voc</th>\n",
       "      <th>error_Voc</th>\n",
       "      <th>io</th>\n",
       "      <th>error_io</th>\n",
       "    </tr>\n",
       "  </thead>\n",
       "  <tbody>\n",
       "    <tr>\n",
       "      <th>0</th>\n",
       "      <td>1.2935</td>\n",
       "      <td>0.0519</td>\n",
       "      <td>0.0013</td>\n",
       "      <td>0.000014</td>\n",
       "    </tr>\n",
       "    <tr>\n",
       "      <th>1</th>\n",
       "      <td>1.5920</td>\n",
       "      <td>0.0528</td>\n",
       "      <td>0.0016</td>\n",
       "      <td>0.000014</td>\n",
       "    </tr>\n",
       "    <tr>\n",
       "      <th>2</th>\n",
       "      <td>1.9900</td>\n",
       "      <td>0.0449</td>\n",
       "      <td>0.0020</td>\n",
       "      <td>0.000023</td>\n",
       "    </tr>\n",
       "    <tr>\n",
       "      <th>3</th>\n",
       "      <td>2.7860</td>\n",
       "      <td>0.1044</td>\n",
       "      <td>0.0028</td>\n",
       "      <td>0.000023</td>\n",
       "    </tr>\n",
       "    <tr>\n",
       "      <th>4</th>\n",
       "      <td>3.7829</td>\n",
       "      <td>0.1061</td>\n",
       "      <td>0.0036</td>\n",
       "      <td>0.000023</td>\n",
       "    </tr>\n",
       "    <tr>\n",
       "      <th>5</th>\n",
       "      <td>3.9757</td>\n",
       "      <td>0.1118</td>\n",
       "      <td>0.0044</td>\n",
       "      <td>0.000023</td>\n",
       "    </tr>\n",
       "  </tbody>\n",
       "</table>\n",
       "</div>"
      ],
      "text/plain": [
       "      Voc  error_Voc      io  error_io\n",
       "0  1.2935     0.0519  0.0013  0.000014\n",
       "1  1.5920     0.0528  0.0016  0.000014\n",
       "2  1.9900     0.0449  0.0020  0.000023\n",
       "3  2.7860     0.1044  0.0028  0.000023\n",
       "4  3.7829     0.1061  0.0036  0.000023\n",
       "5  3.9757     0.1118  0.0044  0.000023"
      ]
     },
     "execution_count": 42,
     "metadata": {},
     "output_type": "execute_result"
    }
   ],
   "source": [
    "df_qtiplot[['Voc','error_Voc','io','error_io']]"
   ]
  },
  {
   "cell_type": "code",
   "execution_count": 51,
   "metadata": {},
   "outputs": [],
   "source": [
    "def disc_rel(x_exp):\n",
    "\n",
    "    x_true = 981.9\n",
    "\n",
    "    return abs((x_exp - x_true)) * 100/ x_true"
   ]
  },
  {
   "cell_type": "code",
   "execution_count": 52,
   "metadata": {},
   "outputs": [
    {
     "data": {
      "text/plain": [
       "4.572767084224461"
      ]
     },
     "execution_count": 52,
     "metadata": {},
     "output_type": "execute_result"
    }
   ],
   "source": [
    "disc_rel(937)"
   ]
  },
  {
   "cell_type": "code",
   "execution_count": null,
   "metadata": {},
   "outputs": [],
   "source": []
  }
 ],
 "metadata": {
  "interpreter": {
   "hash": "11c3e2f9f964fddd740020a534f9c1446ba12168a40877fda89c26a40a66dbfc"
  },
  "kernelspec": {
   "display_name": "Python 3.10.1 64-bit",
   "language": "python",
   "name": "python3"
  },
  "language_info": {
   "codemirror_mode": {
    "name": "ipython",
    "version": 3
   },
   "file_extension": ".py",
   "mimetype": "text/x-python",
   "name": "python",
   "nbconvert_exporter": "python",
   "pygments_lexer": "ipython3",
   "version": "3.10.1"
  },
  "orig_nbformat": 4
 },
 "nbformat": 4,
 "nbformat_minor": 2
}
