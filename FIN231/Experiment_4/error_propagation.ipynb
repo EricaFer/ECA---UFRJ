{
 "cells": [
  {
   "cell_type": "markdown",
   "metadata": {},
   "source": [
    "## **Error Propagation**\n",
    "\n",
    "### **Authors:**\n",
    "- Erica Ferreira - [erica.ferreira@poli.ufrj.br](mailto:erica.ferreira@poli.ufrj.br)\n",
    "\n",
    "### **Description:**\n",
    "\n",
    "Voltage calculator and error propagation for question 4 on the Experiment 4 for the subject of Experimental Physics 3 at the Federal University of Rio de Janeiro (UFRJ)\n",
    "\n",
    "<HR>"
   ]
  },
  {
   "cell_type": "markdown",
   "metadata": {},
   "source": [
    "### **Importing tools**"
   ]
  },
  {
   "cell_type": "code",
   "execution_count": 30,
   "metadata": {},
   "outputs": [],
   "source": [
    "import numpy as np\n",
    "import pandas as pd"
   ]
  },
  {
   "cell_type": "markdown",
   "metadata": {},
   "source": [
    "$$V_{OC} = \\sqrt{V_{OG} ^2 - V_{OR} ^2}$$\n",
    "\n",
    "\n",
    "<br>\n",
    "\n",
    "$$\\sigma_{V_{OC}} = \\sqrt{\\left( \\frac{V_{OG} \\cdot \\sigma_{V_{OG}}}{\\sqrt{V_{OG}^2 - V_{OR}^2}} \\right)^2 + \\left(\\frac{- V_{OR} \\cdot \\sigma_{V_{OR}}}{\\sqrt{V_{OR}^2 - V_{OG}^2}} \\right)^2}$$\n"
   ]
  },
  {
   "cell_type": "markdown",
   "metadata": {},
   "source": [
    "$$i_o = \\frac{V_{OR}}{R}$$\n",
    "\n",
    "<br>\n",
    "\n",
    "$$\\sigma_{i_o} = \\sqrt{\\left( \\frac{\\sigma_{V_{OR}}}{R} \\right)^2 + \\left( \\frac{-\\sigma_R}{R^2}\\right)^2}$$"
   ]
  },
  {
   "cell_type": "code",
   "execution_count": 60,
   "metadata": {},
   "outputs": [],
   "source": [
    "def calculator(volt_resistor, volt_gerador, volt_resistor_error, volt_gerador_error, qtiplot = bool):\n",
    "\n",
    "    resistance = 99.4\n",
    "    resistance_error = 0.1\n",
    "\n",
    "    # From mV to V\n",
    "    volt_resistor = [x/1000 for x in volt_resistor]\n",
    "    volt_resistor_error = [x/1000 for x in volt_resistor_error]\n",
    "    volt_gerador =  [x/1000 for x in volt_gerador]\n",
    "    volt_gerador_error =  [x/1000 for x in volt_gerador_error]\n",
    "\n",
    "\n",
    "    voltages = zip(volt_resistor, volt_resistor_error, volt_gerador, volt_gerador_error)\n",
    "\n",
    "\n",
    "    df = pd.DataFrame()\n",
    "\n",
    "    for resistor, resistor_error, generator, generator_error in voltages:\n",
    "\n",
    "        current = resistor/resistance\n",
    "\n",
    "        current_error = np.sqrt((generator_error/resistance)**2 + (resistance_error/(resistance)**2)**2)\n",
    "\n",
    "        capacitor = np.sqrt(generator**2 - resistor**2)\n",
    "\n",
    "        capacitor_error = np.sqrt(((generator * generator_error)/ capacitor)**2 + ((resistor * resistor)/capacitor)**2)\n",
    "\n",
    "\n",
    "\n",
    "        if qtiplot:\n",
    "\n",
    "            data = {\n",
    "                'Vor (mV)' : [round(resistor*100,2)],\n",
    "                'error_Vor (mV)': [round(resistor_error*100,2)],\n",
    "                'io (mA)' : [round(current*1000,2)],\n",
    "                'error_io (mA)': [round(current_error*1000,2)],\n",
    "                'Vog': [round(generator,2)],\n",
    "                'error_Vog':[round(generator_error,2)],\n",
    "                'Voc': [round(capacitor,2)],\n",
    "                'error_Voc':[round(capacitor_error,2)]\n",
    "            }\n",
    "\n",
    "\n",
    "        else:\n",
    "\n",
    "            data = {\n",
    "                'Vor ± error_Vor' : [f'({round(resistor*100,2)} ± {round(resistor_error*100,2)}) mV'],\n",
    "                'io ± error_io(mA)' :[ f'({round(current*1000,2)} ± {round(current_error*1000,2)}) mA'],\n",
    "                'Vog ± error_Vog' : [f'{round(generator,2)} ± {round(generator_error,2)}'],\n",
    "                'Voc ± error_Voc' : [f'{round(capacitor,2)} ± {round(capacitor_error,2)}']\n",
    "            }\n",
    "\n",
    "\n",
    "        df = df.append(pd.DataFrame(data))\n",
    "\n",
    "    df.to_excel('tabela_qtpliplot.xls')\n",
    "\n",
    "    return df.head(10).reset_index(drop = True)"
   ]
  },
  {
   "cell_type": "code",
   "execution_count": 63,
   "metadata": {},
   "outputs": [
    {
     "name": "stderr",
     "output_type": "stream",
     "text": [
      "C:\\Users\\erica\\AppData\\Local\\Temp/ipykernel_8484/2143792528.py:56: FutureWarning: As the xlwt package is no longer maintained, the xlwt engine will be removed in a future version of pandas. This is the only engine in pandas that supports writing in the xls format. Install openpyxl and write to an xlsx file instead. You can set the option io.excel.xls.writer to 'xlwt' to silence this warning. While this option is deprecated and will also raise a warning, it can be globally set and the warning suppressed.\n",
      "  df.to_excel('tabela_qtpliplot.xls')\n"
     ]
    }
   ],
   "source": [
    "df = calculator(volt_resistor= [130,160,200,280,360,440], \n",
    "           volt_resistor_error= [10,10,20,20,20,20],\n",
    "           volt_gerador=[1300,1600,400,2800, 3800, 8000],\n",
    "           volt_gerador_error= [50,50,40,100,100,100],\n",
    "           qtiplot= True)"
   ]
  },
  {
   "cell_type": "code",
   "execution_count": 64,
   "metadata": {},
   "outputs": [
    {
     "data": {
      "text/plain": [
       "Index(['Vor (mV)', 'error_Vor (mV)', 'io (mA)', 'error_io (mA)', 'Vog',\n",
       "       'error_Vog', 'Voc', 'error_Voc'],\n",
       "      dtype='object')"
      ]
     },
     "execution_count": 64,
     "metadata": {},
     "output_type": "execute_result"
    }
   ],
   "source": [
    "df.columns"
   ]
  },
  {
   "cell_type": "code",
   "execution_count": 72,
   "metadata": {},
   "outputs": [
    {
     "data": {
      "text/html": [
       "<div>\n",
       "<style scoped>\n",
       "    .dataframe tbody tr th:only-of-type {\n",
       "        vertical-align: middle;\n",
       "    }\n",
       "\n",
       "    .dataframe tbody tr th {\n",
       "        vertical-align: top;\n",
       "    }\n",
       "\n",
       "    .dataframe thead th {\n",
       "        text-align: right;\n",
       "    }\n",
       "</style>\n",
       "<table border=\"1\" class=\"dataframe\">\n",
       "  <thead>\n",
       "    <tr style=\"text-align: right;\">\n",
       "      <th></th>\n",
       "      <th>Vor (mV)</th>\n",
       "      <th>error_Vor (mV)</th>\n",
       "      <th>io (mA)</th>\n",
       "      <th>error_io (mA)</th>\n",
       "      <th>Vog</th>\n",
       "      <th>error_Vog</th>\n",
       "      <th>Voc</th>\n",
       "      <th>error_Voc</th>\n",
       "    </tr>\n",
       "  </thead>\n",
       "  <tbody>\n",
       "    <tr>\n",
       "      <th>0</th>\n",
       "      <td>13.0</td>\n",
       "      <td>1.0</td>\n",
       "      <td>1.31</td>\n",
       "      <td>0.50</td>\n",
       "      <td>1.3</td>\n",
       "      <td>0.05</td>\n",
       "      <td>1.29</td>\n",
       "      <td>0.05</td>\n",
       "    </tr>\n",
       "    <tr>\n",
       "      <th>1</th>\n",
       "      <td>16.0</td>\n",
       "      <td>1.0</td>\n",
       "      <td>1.61</td>\n",
       "      <td>0.50</td>\n",
       "      <td>1.6</td>\n",
       "      <td>0.05</td>\n",
       "      <td>1.59</td>\n",
       "      <td>0.05</td>\n",
       "    </tr>\n",
       "    <tr>\n",
       "      <th>2</th>\n",
       "      <td>20.0</td>\n",
       "      <td>2.0</td>\n",
       "      <td>2.01</td>\n",
       "      <td>0.40</td>\n",
       "      <td>0.4</td>\n",
       "      <td>0.04</td>\n",
       "      <td>0.35</td>\n",
       "      <td>0.12</td>\n",
       "    </tr>\n",
       "    <tr>\n",
       "      <th>3</th>\n",
       "      <td>28.0</td>\n",
       "      <td>2.0</td>\n",
       "      <td>2.82</td>\n",
       "      <td>1.01</td>\n",
       "      <td>2.8</td>\n",
       "      <td>0.10</td>\n",
       "      <td>2.79</td>\n",
       "      <td>0.10</td>\n",
       "    </tr>\n",
       "    <tr>\n",
       "      <th>4</th>\n",
       "      <td>36.0</td>\n",
       "      <td>2.0</td>\n",
       "      <td>3.62</td>\n",
       "      <td>1.01</td>\n",
       "      <td>3.8</td>\n",
       "      <td>0.10</td>\n",
       "      <td>3.78</td>\n",
       "      <td>0.11</td>\n",
       "    </tr>\n",
       "    <tr>\n",
       "      <th>5</th>\n",
       "      <td>44.0</td>\n",
       "      <td>2.0</td>\n",
       "      <td>4.43</td>\n",
       "      <td>1.01</td>\n",
       "      <td>8.0</td>\n",
       "      <td>0.10</td>\n",
       "      <td>7.99</td>\n",
       "      <td>0.10</td>\n",
       "    </tr>\n",
       "  </tbody>\n",
       "</table>\n",
       "</div>"
      ],
      "text/plain": [
       "   Vor (mV)  error_Vor (mV)  io (mA)  error_io (mA)  Vog  error_Vog   Voc  \\\n",
       "0      13.0             1.0     1.31           0.50  1.3       0.05  1.29   \n",
       "1      16.0             1.0     1.61           0.50  1.6       0.05  1.59   \n",
       "2      20.0             2.0     2.01           0.40  0.4       0.04  0.35   \n",
       "3      28.0             2.0     2.82           1.01  2.8       0.10  2.79   \n",
       "4      36.0             2.0     3.62           1.01  3.8       0.10  3.78   \n",
       "5      44.0             2.0     4.43           1.01  8.0       0.10  7.99   \n",
       "\n",
       "   error_Voc  \n",
       "0       0.05  \n",
       "1       0.05  \n",
       "2       0.12  \n",
       "3       0.10  \n",
       "4       0.11  \n",
       "5       0.10  "
      ]
     },
     "execution_count": 72,
     "metadata": {},
     "output_type": "execute_result"
    }
   ],
   "source": [
    "df"
   ]
  },
  {
   "cell_type": "code",
   "execution_count": null,
   "metadata": {},
   "outputs": [],
   "source": []
  }
 ],
 "metadata": {
  "interpreter": {
   "hash": "11c3e2f9f964fddd740020a534f9c1446ba12168a40877fda89c26a40a66dbfc"
  },
  "kernelspec": {
   "display_name": "Python 3.10.1 64-bit",
   "language": "python",
   "name": "python3"
  },
  "language_info": {
   "codemirror_mode": {
    "name": "ipython",
    "version": 3
   },
   "file_extension": ".py",
   "mimetype": "text/x-python",
   "name": "python",
   "nbconvert_exporter": "python",
   "pygments_lexer": "ipython3",
   "version": "3.10.1"
  },
  "orig_nbformat": 4
 },
 "nbformat": 4,
 "nbformat_minor": 2
}
